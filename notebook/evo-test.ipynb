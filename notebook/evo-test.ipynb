{
 "cells": [
  {
   "cell_type": "code",
   "execution_count": 1,
   "metadata": {
    "collapsed": false,
    "deletable": true,
    "editable": true
   },
   "outputs": [],
   "source": [
    "#Socket client example in python\n",
    " \n",
    "import socket   #for sockets\n",
    "import sys  #for exit\n",
    "import struct\n",
    "from __future__ import division\n",
    "import time\n",
    "import sys,io\n",
    "import string\n",
    "import asynchat"
   ]
  },
  {
   "cell_type": "code",
   "execution_count": 2,
   "metadata": {
    "collapsed": true,
    "deletable": true,
    "editable": true
   },
   "outputs": [],
   "source": [
    "def dprint(m):\n",
    "    for c in m:\n",
    "        if ord(c)==0x3b :\n",
    "            print\n",
    "        print \"0x%02x\" %ord(c),\n",
    "    print\n",
    "    \n",
    "def checksum(msg):\n",
    "    return ((~sum([ord(c) for c in msg]) + 1) ) & 0xFF\n"
   ]
  },
  {
   "cell_type": "code",
   "execution_count": 3,
   "metadata": {
    "collapsed": true,
    "deletable": true,
    "editable": true
   },
   "outputs": [],
   "source": [
    "class scope(asynchat.async_chat):\n",
    "    \n",
    "    def __init__(self, addr='1.2.3.4', port=2000):\n",
    "        asynchat.async_chat.__init__(self)\n",
    "        self.create_socket(socket.AF_INET, socket.SOCK_STREAM)\n",
    "        self.connect((addr, port))\n",
    "        self.ibuffer = []\n",
    "        self.obuffer = ''\n",
    "        self.reading_headers = True\n",
    "        self.handling = False\n",
    "        self.set_terminator('*HELLO*')\n",
    "        self.startup=True\n",
    "        \n",
    "    # grab some more data from the socket,\n",
    "    # throw it to the collector method,\n",
    "    # check for the terminator,\n",
    "    # if found, transition to the next state.\n",
    "\n",
    "    def handle_read (self):\n",
    "\n",
    "        try:\n",
    "            data = self.recv (self.ac_in_buffer_size)\n",
    "        except socket.error, why:\n",
    "            if why.args[0] in _BLOCKING_IO_ERRORS:\n",
    "                return\n",
    "            self.handle_error()\n",
    "            return\n",
    "\n",
    "        self.ac_in_buffer = self.ac_in_buffer + data\n",
    "\n",
    "        # Continue to search for self.terminator in self.ac_in_buffer,\n",
    "        # while calling self.collect_incoming_data.  The while loop\n",
    "        # is necessary because we might read several data+terminator\n",
    "        # combos with a single recv(4096).\n",
    "\n",
    "        while self.ac_in_buffer:\n",
    "            lb = len(self.ac_in_buffer)\n",
    "            terminator = self.get_terminator()\n",
    "            if not terminator:\n",
    "                # no terminator, collect it all\n",
    "                self.collect_incoming_data (self.ac_in_buffer)\n",
    "                self.ac_in_buffer = ''\n",
    "            elif isinstance(terminator, int) or isinstance(terminator, long):\n",
    "                # numeric terminator\n",
    "                n = terminator\n",
    "                if lb < n:\n",
    "                    self.collect_incoming_data (self.ac_in_buffer)\n",
    "                    self.ac_in_buffer = ''\n",
    "                    self.terminator = self.terminator - lb\n",
    "                else:\n",
    "                    self.collect_incoming_data (self.ac_in_buffer[:n])\n",
    "                    self.ac_in_buffer = self.ac_in_buffer[n:]\n",
    "                    self.terminator = 0\n",
    "                    self.found_terminator()\n",
    "            else:\n",
    "                # 3 cases:\n",
    "                # 1) end of buffer matches terminator exactly:\n",
    "                #    collect data, transition\n",
    "                # 2) end of buffer matches some prefix:\n",
    "                #    collect data to the prefix\n",
    "                # 3) end of buffer does not match any prefix:\n",
    "                #    collect data\n",
    "                terminator_len = len(terminator)\n",
    "                index = self.ac_in_buffer.find(terminator)\n",
    "                if index != -1:\n",
    "                    # we found the terminator\n",
    "                    if index > 0:\n",
    "                        # don't bother reporting the empty string (source of subtle bugs)\n",
    "                        # Sometimes one needs empty strings!\n",
    "                        pass\n",
    "                    #print 'Term found'\n",
    "                    sys.stdout.flush()\n",
    "                    self.collect_incoming_data (self.ac_in_buffer[:index])\n",
    "                    self.ac_in_buffer = self.ac_in_buffer[index+terminator_len:]\n",
    "                    # This does the Right Thing if the terminator is changed here.\n",
    "                    self.found_terminator()\n",
    "                else:\n",
    "                    # check for a prefix of the terminator\n",
    "                    index = asynchat.find_prefix_at_end (self.ac_in_buffer, terminator)\n",
    "                    if index:\n",
    "                        if index != lb:\n",
    "                            # we found a prefix, collect up to the prefix\n",
    "                            self.collect_incoming_data (self.ac_in_buffer[:-index])\n",
    "                            self.ac_in_buffer = self.ac_in_buffer[-index:]\n",
    "                        break\n",
    "                    else:\n",
    "                        # no prefix, collect it all\n",
    "                        self.collect_incoming_data (self.ac_in_buffer)\n",
    "                        self.ac_in_buffer = ''\n",
    "\n",
    "        \n",
    "    def collect_incoming_data(self, data):\n",
    "        '''Buffer the data'''\n",
    "        #print 'Collect:',\n",
    "        #dprint(data)\n",
    "        sys.stdout.flush()\n",
    "        self.ibuffer.append(data)\n",
    "    \n",
    "    def found_terminator(self):\n",
    "        if self.startup :\n",
    "            self.set_terminator('\\x3b')\n",
    "            self.startup=False\n",
    "            self.ibuffer=[]\n",
    "            print 'Hello!'\n",
    "            sys.stdout.flush()\n",
    "            return\n",
    "        if self.reading_headers :\n",
    "            print 'msg:',\n",
    "            self.reading_headers=False\n",
    "            self.ibuffer=[]\n",
    "            self.set_terminator(1)\n",
    "        elif self.handling :\n",
    "            self.handling=False\n",
    "            self.reading_headers=True\n",
    "            self.set_terminator('\\x3b')\n",
    "            #print self.ibuffer\n",
    "            self.msg=''.join(self.ibuffer)\n",
    "            dprint(self.msg)\n",
    "            if checksum(self.msg[:-1])!=ord(self.msg[-1]) :\n",
    "                print 'Checksum error!'\n",
    "        else :\n",
    "            self.handling=True\n",
    "            self.msglen=ord(self.ibuffer[0][0])\n",
    "            print '(%2d)' % self.msglen,\n",
    "            self.set_terminator(self.msglen+1)\n",
    "        sys.stdout.flush()"
   ]
  },
  {
   "cell_type": "code",
   "execution_count": 7,
   "metadata": {
    "collapsed": false,
    "deletable": true,
    "editable": true,
    "scrolled": true
   },
   "outputs": [
    {
     "name": "stdout",
     "output_type": "stream",
     "text": [
      "Hello!\n",
      "msg: ( 4) 0x04 0x0d 0x11 0x24 0x05 0xb5\n",
      "msg: ( 3) 0x03 0x11 0x0d 0x24 0xbb\n",
      "msg: ( 4) 0x04 0x0d 0x11 0x24 0x00 0xba\n",
      "msg: ( 3) 0x03 0x11 0x0d 0x24 0xbb\n",
      "msg: ( 4) 0x04 0x0d 0x11 0x24 0x05 0xb5\n",
      "msg: ( 3) 0x03 0x11 0x0d 0x24 0xbb\n",
      "msg: ( 4) 0x04 0x0d 0x11 0x24 0x00 0xba\n",
      "msg: ( 3) 0x03 0x11 0x0d 0x24 0xbb\n",
      "msg: ( 4) 0x04 0x0d 0x11 0x24 0x05 0xb5\n",
      "msg: ( 3) 0x03 0x11 0x0d 0x24 0xbb\n",
      "msg: ( 4) 0x04 0x0d 0x11 0x24 0x00 0xba\n",
      "msg: ( 3) 0x03 0x11 0x0d 0x24 0xbb\n",
      "msg: ( 4) 0x04 0x0d 0x11 0x24 0x05 0xb5\n",
      "msg: ( 3) 0x03 0x11 0x0d 0x24 0xbb\n",
      "msg: ( 4) 0x04 0x0d 0x11 0x24 0x00 0xba\n",
      "msg: ( 3) 0x03 0x11 0x0d 0x24 0xbb\n",
      "msg: ( 4) 0x04 0x0d 0x11 0x24 0x05 0xb5\n",
      "msg: ( 3) 0x03 0x11 0x0d 0x24 0xbb\n",
      "msg: ( 4) 0x04 0x0d 0x11 0x24 0x00 0xba\n",
      "msg: ( 3) 0x03 0x11 0x0d 0x24 0xbb\n",
      "msg: ( 4) 0x04 0x0d 0x11 0x25 0x05 0xb4\n",
      "msg: ( 3) 0x03 0x11 0x0d 0x25 0xba\n",
      "msg: ( 4) 0x04 0x0d 0x11 0x24 0x00 0xba\n",
      "msg: ( 3) 0x03 0x11 0x0d 0x24 0xbb\n",
      "msg: ( 4) 0x04 0x0d 0x11 0x24 0x05 0xb5\n",
      "msg: ( 3) 0x03 0x11 0x0d 0x24 0xbb\n",
      "msg: ( 4) 0x04 0x0d 0x11 0x24 0x00 0xba\n",
      "msg: ( 3) 0x03 0x11 0x0d 0x24 0xbb\n",
      "msg: ( 4) 0x04 0x0d 0x11 0x25 0x05 0xb4\n",
      "msg: ( 3) 0x03 0x11 0x0d 0x25 0xba\n",
      "msg: ( 4) 0x04 0x0d 0x11 0x24 0x00 0xba\n",
      "msg: ( 3) 0x03 0x11 0x0d 0x24 0xbb\n",
      "msg: ( 4) 0x04 0x0d 0x11 0x24 0x05 0xb5\n",
      "msg: ( 3) 0x03 0x11 0x0d 0x24 0xbb\n",
      "msg: ( 4) 0x04 0x0d 0x11 0x24 0x00 0xba\n",
      "msg: ( 3) 0x03 0x11 0x0d 0x24 0xbb\n",
      "msg: ( 4) 0x04 0x0d 0x11 0x25 0x05 0xb4\n",
      "msg: ( 3) 0x03 0x11 0x0d 0x25 0xba\n",
      "msg: ( 4) 0x04 0x0d 0x11 0x24 0x00 0xba\n",
      "msg: ( 3) 0x03 0x11 0x0d 0x24 0xbb\n",
      "msg: ( 4) 0x04 0x0d 0x11 0x24 0x05 0xb5\n",
      "msg: ( 3) 0x03 0x11 0x0d 0x24 0xbb\n",
      "msg: ( 4) 0x04 0x0d 0x11 0x24 0x00 0xba\n",
      "msg: ( 3) 0x03 0x11 0x0d 0x24 0xbb\n",
      "msg: ( 4) 0x04 0x0d 0x11 0x24 0x05 0xb5\n",
      "msg: ( 3) 0x03 0x11 0x0d 0x24 0xbb\n"
     ]
    }
   ],
   "source": [
    "nse=scope('10.24.48.10')\n",
    "asynchat.asyncore.loop(count=25)\n",
    "nse.socket.close()"
   ]
  },
  {
   "cell_type": "code",
   "execution_count": 8,
   "metadata": {
    "collapsed": true,
    "deletable": true,
    "editable": true
   },
   "outputs": [],
   "source": [
    "nse.socket.close()"
   ]
  },
  {
   "cell_type": "code",
   "execution_count": 119,
   "metadata": {
    "collapsed": false,
    "deletable": true,
    "editable": true
   },
   "outputs": [],
   "source": [
    "?? asynchat.async_chat"
   ]
  },
  {
   "cell_type": "code",
   "execution_count": 10,
   "metadata": {
    "collapsed": false,
    "deletable": true,
    "editable": true
   },
   "outputs": [],
   "source": [
    "targets={'ANY':'\\x00',\n",
    "         'MB' :'\\x01',\n",
    "         'HC' :'\\x04',\n",
    "         'HC+':'\\x0d',\n",
    "         'AZM':'\\x10',\n",
    "         'ALT':'\\x11',\n",
    "         'APP':'\\x20',\n",
    "         'GPS':'\\xb0',\n",
    "         'WiFi':'\\xb5',\n",
    "         'BAT':'\\xb6',\n",
    "         'CHG':'\\xb7',\n",
    "         'LIGHT':'\\xbf'\n",
    "        }\n",
    "commands={\n",
    "          'MC_GET_POSITION':'\\x01',\n",
    "          'MC_GOTO_FAST':'\\x02',\n",
    "          'MC_SET_POSITION':'\\x04',\n",
    "          'MC_SET_POS_GUIDERATE':'\\x06',\n",
    "          'MC_SET_NEG_GUIDERATE':'\\x07',\n",
    "          'MC_LEVEL_START':'\\x0b',\n",
    "          'MC_GOTO_SLOW':'\\x17',\n",
    "          'MC_SEEK_INDEX':'\\x19',\n",
    "          'MC_SET_AUTOGUIDE_RATE':'\\x46',\n",
    "          'MC_GET_AUTOGUIDE_RATE':'\\x47',\n",
    "          'GET_VER':'\\xfe',\n",
    "          'GET_BATT_STATUS':'\\x10',\n",
    "         }\n",
    "\n",
    "trgid={}\n",
    "for k in targets.keys():\n",
    "    trgid[ord(targets[k])]=k\n",
    "cmdid={}\n",
    "for k in commands.keys():\n",
    "    cmdid[ord(commands[k])]=k\n",
    "    \n",
    "def checksum(msg):\n",
    "    return ((~sum([ord(c) for c in msg]) + 1) ) & 0xFF\n",
    "\n",
    "def f2dms(f):\n",
    "    d=360*f\n",
    "    dd=int(d)\n",
    "    mm=int((d-dd)*60)\n",
    "    ss=(d-dd-mm/60)*3600\n",
    "    return dd,mm,ss\n",
    "\n",
    "def parse_pos(dat,s=None,d=None):\n",
    "    if len(dat)==3 :\n",
    "        pos=struct.unpack('!i','\\x00'+dat)[0]/2**24\n",
    "        return u'%03d°%02d\\'%04.1f\"' % f2dms(pos)\n",
    "    else :\n",
    "        return ''\n",
    "\n",
    "def parse_bat(dat):\n",
    "    #dprint(dat)\n",
    "    batstat={\n",
    "        '\\x00':'LOW',\n",
    "        '\\x01':'MEDIUM',\n",
    "        '\\x02':'HIGH',\n",
    "    }\n",
    "    if len(dat)==6 :\n",
    "        return u'%6s: %.4fV %s ' % ( batstat[dat[1]],\n",
    "                                     struct.unpack('!i',dat[2:])[0]/1e6,\n",
    "                                     'Charging' if dat[0]=='\\x01' else 'Discharging' )\n",
    "    else :\n",
    "        return ''\n",
    "    \n",
    "def parse_10(dat,s=None,d=None):\n",
    "    if s==0xb6 or d==0xb6 :\n",
    "        return parse_bat(dat)\n",
    "    else :\n",
    "        return ''.join(['0x%02x ' % ord(b) for b in dat])\n",
    "    \n",
    "parsers={\n",
    "    '\\x01':parse_pos,\n",
    "    '\\x02':parse_pos,\n",
    "    '\\x04':parse_pos,\n",
    "    '\\x06':parse_pos,\n",
    "    '\\x07':parse_pos,\n",
    "    '\\x17':parse_pos,\n",
    "    '\\x10':parse_10,\n",
    "    '\\x11':parse_10,\n",
    "}\n",
    "\n",
    "def send_cmd(sck, src='APP', trg='AZM', cmd='GET_VER', data=''):\n",
    "    pre='\\x3b'\n",
    "    msg=targets[src]+targets[trg]+commands[cmd]+data\n",
    "    msg=chr(len(msg))+msg\n",
    "    sck.sendall(pre+msg+chr(checksum(msg)))\n",
    "\n",
    "\n",
    "def split_msgs(r,debug=False):\n",
    "    l=r.find('\\x3b')+1\n",
    "    p=l\n",
    "    ml=[]\n",
    "    while p>-1:\n",
    "        p=r.find('\\x3b',l)\n",
    "        #if debug : print l, p\n",
    "        ml.append(r[l:p]+r[p])\n",
    "        l=p+1\n",
    "    if debug : print ml\n",
    "    return ml\n",
    "    \n",
    "def parse_msg(m, debug=False):\n",
    "    '''\n",
    "    Parse bytes byond 0x3b. \n",
    "    Do not pass the message with preamble!\n",
    "    '''\n",
    "    l=ord(m[0])+1\n",
    "    msg=m[:l]\n",
    "    if debug :\n",
    "        print 'Parse:',\n",
    "        dprint(msg)\n",
    "    if  chr(checksum(msg)) != m[l] :\n",
    "        print 'Checksum error: %x vs. %02x' % (checksum(msg) , ord(m[l]))\n",
    "        dprint(m)\n",
    "    l,src,dst,mid=struct.unpack('4B',msg[:4])\n",
    "    dat=msg[4:l+1]\n",
    "    #print 'len:', l\n",
    "    return l, src, dst, mid, dat\n",
    "\n",
    "\n",
    "def print_msg(l,s,d,i,dat):\n",
    "    try :\n",
    "        print '[%d] %4s => %4s (%12s): ' % (l,trgid[s],trgid[d],cmdid[i]),\n",
    "    except KeyError :\n",
    "        print '[%d] %02x => %02x (%02x): ' % (l,s,d,i),\n",
    "    if chr(i) in parsers:\n",
    "        print parsers[chr(i)](dat,s,d),\n",
    "    else :\n",
    "        dprint(dat)\n",
    "\n",
    "def rcv_msg(sck, trg='NET', debug=False):\n",
    "    r = sck.recv(4096)\n",
    "    #dprint(r)\n",
    "    we=ord(targets[trg])\n",
    "    ml=[]\n",
    "    for m in split_msgs(r,debug=debug):\n",
    "        if debug :\n",
    "            print 'RCV:',\n",
    "            dprint(m)\n",
    "        try :\n",
    "            l,s,d,i,dat=parse_msg(m,debug=debug)\n",
    "            if trg!='ANY' and d!=we and s!=we:\n",
    "                #print 'Not for us (%02x): %02x ->  %02x' % (we, s, d)\n",
    "                continue\n",
    "            if debug : print_msg(l,s,d,i,dat)\n",
    "            ml.append([l,s,d,i,dat])\n",
    "        except IndexError :\n",
    "            print 'Parse ERROR:',\n",
    "            dprint(m)\n",
    "    return ml\n",
    "\n",
    "\n",
    "def get_pos(sck,trg='ALT'):\n",
    "    send_cmd(s,trg=trg,cmd='MC_GET_POSITION')\n",
    "    time.sleep(0.05)\n",
    "    ml=rcv_msg(s)\n",
    "    dat='\\x00'+ml[-1][-1]\n",
    "    return struct.unpack('!i',dat)[0]/2**24\n",
    "    \n",
    "def get_ver(sck,trg='MB'):\n",
    "    send_cmd(sck,trg=trg,cmd='GET_VER')\n",
    "    msg=rcv_msg(sck)[-1]\n",
    "    return tuple(['%02x' % ord(c) for c in msg[-1]])\n",
    "\n",
    "def show_pos(sck):\n",
    "    azm=get_pos(sck,trg='AZM')\n",
    "    print u'\\rAZM %03d°%02d\\'%04.1f\"' % f2dms(azm),\n",
    "    time.sleep(0.1)\n",
    "    alt=get_pos(sck,trg='ALT')\n",
    "    print u'ALT %+02d°%02d\\'%04.1f\"' % f2dms(alt),\n"
   ]
  },
  {
   "cell_type": "code",
   "execution_count": 53,
   "metadata": {
    "collapsed": false,
    "deletable": true,
    "editable": true
   },
   "outputs": [
    {
     "name": "stdout",
     "output_type": "stream",
     "text": [
      "Socket Created\n",
      "Socket Connected to 10.24.48.10 on ip 10.24.48.10\n"
     ]
    }
   ],
   "source": [
    " \n",
    "#create an INET, STREAMing socket\n",
    "try:\n",
    "    s = socket.socket(socket.AF_INET, socket.SOCK_STREAM)\n",
    "except socket.error:\n",
    "    print 'Failed to create socket'\n",
    "    sys.exit()\n",
    "     \n",
    "print 'Socket Created'\n",
    " \n",
    "host = '10.24.48.10';\n",
    "port = 2000;\n",
    " \n",
    "try:\n",
    "    remote_ip = socket.gethostbyname( host )\n",
    " \n",
    "except socket.gaierror:\n",
    "    #could not resolve\n",
    "    print 'Hostname could not be resolved. Exiting'\n",
    "    sys.exit()\n",
    " \n",
    "#Connect to remote server\n",
    "s.connect((host , port))\n",
    " \n",
    "print 'Socket Connected to ' + host + ' on ip ' + remote_ip"
   ]
  },
  {
   "cell_type": "code",
   "execution_count": 54,
   "metadata": {
    "collapsed": false,
    "deletable": true,
    "editable": true
   },
   "outputs": [
    {
     "name": "stdout",
     "output_type": "stream",
     "text": [
      "[3]  HC+ =>  AZM (MC_GET_POSITION):  \n",
      "[6]  AZM =>  HC+ (MC_GET_POSITION):  266°59'11.6\" bd db 6b\n",
      "[3]  HC+ =>  ALT (MC_GET_POSITION):  \n",
      "[6]  ALT =>  HC+ (MC_GET_POSITION):  012°42'27.4\" 09 09 5a\n",
      "[3]  HC+ =>  AZM (MC_GET_POSITION):  \n",
      "[6]  AZM =>  HC+ (MC_GET_POSITION):  266°59'25.7\" bd dc 22\n",
      "[3]  HC+ =>  ALT (MC_GET_POSITION):  \n",
      "[6]  ALT =>  HC+ (MC_GET_POSITION):  012°42'17.4\" 09 08 d8\n",
      "[3]  HC+ =>  AZM (MC_GET_POSITION):  \n",
      "[6]  AZM =>  HC+ (MC_GET_POSITION):  266°59'36.7\" bd dc b0\n",
      "[3]  HC+ =>  ALT (MC_GET_POSITION):  \n",
      "[6]  ALT =>  HC+ (MC_GET_POSITION):  012°42'06.9\" 09 08 50\n",
      "[3]  HC+ =>  AZM (MC_GET_POSITION):  \n",
      "[6]  AZM =>  HC+ (MC_GET_POSITION):  266°59'48.7\" bd dd 4b\n",
      "[3]  HC+ =>  ALT (MC_GET_POSITION):  \n",
      "[6]  ALT =>  HC+ (MC_GET_POSITION):  012°41'56.2\" 09 07 c6\n",
      "[3]  HC+ =>  AZM (MC_GET_POSITION):  \n",
      "[6]  AZM =>  HC+ (MC_GET_POSITION):  267°00'00.8\" bd dd e8\n",
      "[3]  HC+ =>  ALT (MC_GET_POSITION):  \n",
      "[6]  ALT =>  HC+ (MC_GET_POSITION):  012°41'47.3\" 09 07 53\n",
      "[3]  HC+ =>  AZM (MC_GET_POSITION):  \n",
      "[6]  AZM =>  HC+ (MC_GET_POSITION):  267°00'13.0\" bd de 86\n",
      "[3]  HC+ =>  ALT (MC_GET_POSITION):  \n",
      "[6]  ALT =>  HC+ (MC_GET_POSITION):  012°41'36.8\" 09 06 ca\n",
      "[3]  APP =>  AZM (MC_GET_POSITION):  \n",
      "[6]  AZM =>  APP (MC_GET_POSITION):  267°00'20.4\" bd de e6\n"
     ]
    }
   ],
   "source": [
    "send_cmd(s,trg='AZM',cmd='MC_GET_POSITION')\n",
    "for m in rcv_msg(s,'ANY'):\n",
    "        print_msg(*m)\n",
    "        for b in m[-1] : print ('%02x' % ord(b)),\n",
    "        print\n",
    "send_cmd(s,trg='ALT',cmd='MC_GET_POSITION')\n",
    "for m in rcv_msg(s,'ANY'):\n",
    "        print_msg(*m)\n",
    "        for b in m[-1] :print ('%02x' % ord(b)),\n",
    "        print"
   ]
  },
  {
   "cell_type": "code",
   "execution_count": 55,
   "metadata": {
    "collapsed": true,
    "deletable": true,
    "editable": true
   },
   "outputs": [],
   "source": [
    "s.close()"
   ]
  },
  {
   "cell_type": "code",
   "execution_count": null,
   "metadata": {
    "collapsed": false,
    "deletable": true,
    "editable": true,
    "scrolled": true
   },
   "outputs": [],
   "source": [
    "while True :\n",
    "    for m in rcv_msg(s,'ANY'):\n",
    "        print_msg(*m)\n",
    "        print\n",
    "    sys.stdout.flush()\n",
    "    time.sleep(0.05)"
   ]
  },
  {
   "cell_type": "code",
   "execution_count": 45,
   "metadata": {
    "collapsed": false,
    "deletable": true,
    "editable": true
   },
   "outputs": [
    {
     "data": {
      "text/plain": [
       "3000"
      ]
     },
     "execution_count": 45,
     "metadata": {},
     "output_type": "execute_result"
    }
   ],
   "source": [
    "struct.unpack('!i','\\x00\\x00\\x0b\\xb8')[0]"
   ]
  },
  {
   "cell_type": "code",
   "execution_count": 69,
   "metadata": {
    "collapsed": false,
    "deletable": true,
    "editable": true
   },
   "outputs": [
    {
     "name": "stdout",
     "output_type": "stream",
     "text": [
      "Parse ERROR: 0x06 0x10 0x0d 0x01 0x47 0xc3\n",
      "0x3b\n",
      "Parse ERROR: 0x97\n",
      "0x3b\n",
      "Parse ERROR: 0x03 0x0d 0x10 0x01\n",
      "[]\n",
      "Parse ERROR: 0x06 0x10 0x0d 0x01 0x48\n",
      "[]\n"
     ]
    }
   ],
   "source": [
    "send_cmd(s,src='APP',trg='AZM',cmd='GET_VER')\n",
    "print rcv_msg(s,trg='APP')\n",
    "time.sleep(0.1)\n",
    "send_cmd(s,src='APP',trg='ALT',cmd='GET_VER')\n",
    "print rcv_msg(s,trg='APP')"
   ]
  },
  {
   "cell_type": "code",
   "execution_count": 64,
   "metadata": {
    "collapsed": false,
    "deletable": true,
    "editable": true
   },
   "outputs": [
    {
     "name": "stdout",
     "output_type": "stream",
     "text": [
      "[3]  APP =>  AZM (MC_GET_AUTOGUIDE_RATE): \n",
      "\n",
      "[4] 10 => 20 (f0):  0x47\n",
      "\n",
      "[4]  APP =>  AZM (MC_SET_AUTOGUIDE_RATE):  0x80\n",
      "\n",
      "[4] 10 => 20 (f0):  0x46\n",
      "\n",
      "[3]  APP =>  AZM (MC_GET_AUTOGUIDE_RATE): \n",
      "\n",
      "[4] 10 => 20 (f0):  0x47\n",
      "\n"
     ]
    }
   ],
   "source": [
    "send_cmd(s,src='APP',trg='AZM',cmd='MC_GET_AUTOGUIDE_RATE')\n",
    "time.sleep(0.1)\n",
    "for m in rcv_msg(s,'APP'):\n",
    "    print_msg(*m)\n",
    "    print\n",
    "time.sleep(0.1)    \n",
    "send_cmd(s,src='APP',trg='AZM',cmd='MC_SET_AUTOGUIDE_RATE',data='\\x80')\n",
    "time.sleep(0.1)\n",
    "for m in rcv_msg(s,'APP'):\n",
    "    print_msg(*m)\n",
    "    print\n",
    "time.sleep(0.1)    \n",
    "send_cmd(s,src='APP',trg='AZM',cmd='MC_GET_AUTOGUIDE_RATE')\n",
    "time.sleep(0.1)\n",
    "for m in rcv_msg(s,'APP'):\n",
    "    print_msg(*m)\n",
    "    print"
   ]
  },
  {
   "cell_type": "code",
   "execution_count": 24,
   "metadata": {
    "collapsed": false,
    "deletable": true,
    "editable": true
   },
   "outputs": [
    {
     "data": {
      "text/plain": [
       "[[3, 32, 13, 254, '']]"
      ]
     },
     "execution_count": 24,
     "metadata": {},
     "output_type": "execute_result"
    }
   ],
   "source": [
    "send_cmd(s,src='NET',trg='HC+',cmd='GET_VER')\n",
    "rcv_msg(s,trg='ANY')"
   ]
  },
  {
   "cell_type": "code",
   "execution_count": 277,
   "metadata": {
    "collapsed": false,
    "deletable": true,
    "editable": true
   },
   "outputs": [
    {
     "data": {
      "text/plain": [
       "[[3, 32, 17, 1, ''], [6, 17, 32, 1, '\\x00\\x00\\x00']]"
      ]
     },
     "execution_count": 277,
     "metadata": {},
     "output_type": "execute_result"
    }
   ],
   "source": [
    "send_cmd(s,trg='AZM',cmd='MC_GET_POSITION')\n",
    "rcv_msg(s)\n",
    "send_cmd(s,trg='ALT',cmd='MC_GET_POSITION')\n",
    "rcv_msg(s)"
   ]
  },
  {
   "cell_type": "code",
   "execution_count": 287,
   "metadata": {
    "collapsed": false,
    "deletable": true,
    "editable": true
   },
   "outputs": [
    {
     "name": "stdout",
     "output_type": "stream",
     "text": [
      "()\n"
     ]
    }
   ],
   "source": [
    "print get_ver(s,'HC')"
   ]
  },
  {
   "cell_type": "code",
   "execution_count": 279,
   "metadata": {
    "collapsed": false,
    "deletable": true,
    "editable": true
   },
   "outputs": [
    {
     "data": {
      "text/plain": [
       "[[3, 32, 4, 1, '']]"
      ]
     },
     "execution_count": 279,
     "metadata": {},
     "output_type": "execute_result"
    }
   ],
   "source": [
    "send_cmd(s,trg='HC+',cmd='MC_GET_POSITION')\n",
    "rcv_msg(s)"
   ]
  },
  {
   "cell_type": "code",
   "execution_count": 289,
   "metadata": {
    "collapsed": false,
    "deletable": true,
    "editable": true
   },
   "outputs": [
    {
     "name": "stdout",
     "output_type": "stream",
     "text": [
      "() () ('07', '0a', '10', '0d') ('07', '0a', '10', '0d')\n"
     ]
    }
   ],
   "source": [
    "print get_ver(s,'MB'), get_ver(s,'HC'), get_ver(s,'ALT'), get_ver(s,'AZM')"
   ]
  },
  {
   "cell_type": "code",
   "execution_count": 281,
   "metadata": {
    "collapsed": false,
    "deletable": true,
    "editable": true
   },
   "outputs": [
    {
     "name": "stdout",
     "output_type": "stream",
     "text": [
      "AZM 000°00'00.0\" ALT +0°00'00.0\"\n"
     ]
    }
   ],
   "source": [
    "show_pos(s)\n",
    "sys.stdout.flush()"
   ]
  },
  {
   "cell_type": "code",
   "execution_count": 284,
   "metadata": {
    "collapsed": false,
    "deletable": true,
    "editable": true
   },
   "outputs": [
    {
     "name": "stdout",
     "output_type": "stream",
     "text": [
      "AZM 000°00'00.0\" ALT +0°00'00.0\"\n"
     ]
    }
   ],
   "source": [
    "for i in range(10):\n",
    "    show_pos(s)\n",
    "    sys.stdout.flush()\n",
    "    time.sleep(1)"
   ]
  },
  {
   "cell_type": "code",
   "execution_count": 173,
   "metadata": {
    "collapsed": true,
    "deletable": true,
    "editable": true
   },
   "outputs": [],
   "source": [
    "def goto(s,alt,azm,spd='FAST'):\n",
    "    al=int(alt*2**24)\n",
    "    az=int(azm*2**24)\n",
    "    cmd='MC_GOTO_'+spd\n",
    "    send_cmd(s,trg='ALT',cmd=cmd,data=struct.pack('!i',al)[1:])\n",
    "    time.sleep(0.1)\n",
    "    send_cmd(s,trg='AZM',cmd=cmd,data=struct.pack('!i',az)[1:])"
   ]
  },
  {
   "cell_type": "code",
   "execution_count": 241,
   "metadata": {
    "collapsed": true,
    "deletable": true,
    "editable": true
   },
   "outputs": [],
   "source": [
    "goto(s,0.0,0.0,spd='FAST')"
   ]
  },
  {
   "cell_type": "code",
   "execution_count": 199,
   "metadata": {
    "collapsed": true,
    "deletable": true,
    "editable": true
   },
   "outputs": [],
   "source": [
    "def frac_to_fp24(x):\n",
    "    return struct.pack('!i',int(abs(x)*2**24))[1:]\n",
    "\n",
    "def set_guiderate(s,altgr,azmgr):\n",
    "    ald='POS' if (altgr > 0) else 'NEG'\n",
    "    azd='POS' if (azmgr > 0) else 'NEG'\n",
    "    send_cmd(s,trg='ALT',cmd='MC_SET_'+ald+'_GUIDERATE',data=frac_to_fp24(altgr))\n",
    "    time.sleep(0.05)\n",
    "    send_cmd(s,trg='AZM',cmd='MC_SET_'+azd+'_GUIDERATE',data=frac_to_fp24(azmgr))    \n",
    "    time.sleep(0.05)\n"
   ]
  },
  {
   "cell_type": "code",
   "execution_count": 233,
   "metadata": {
    "collapsed": false,
    "deletable": true,
    "editable": true
   },
   "outputs": [],
   "source": [
    "set_guiderate(s,0,0)"
   ]
  },
  {
   "cell_type": "code",
   "execution_count": 240,
   "metadata": {
    "collapsed": false,
    "deletable": true,
    "editable": true
   },
   "outputs": [
    {
     "name": "stdout",
     "output_type": "stream",
     "text": [
      "[3] 20 => 11 (0b): \n",
      "[4] 11 => 20 (f0):  0x0b\n"
     ]
    },
    {
     "data": {
      "text/plain": [
       "[[3, 32, 17, 11, ''], [4, 17, 32, 240, '\\x0b']]"
      ]
     },
     "execution_count": 240,
     "metadata": {},
     "output_type": "execute_result"
    }
   ],
   "source": [
    "send_cmd(s,trg='ALT',cmd='MC_LEVEL_START')\n",
    "rcv_msg(s,debug=True)"
   ]
  },
  {
   "cell_type": "code",
   "execution_count": 104,
   "metadata": {
    "collapsed": false,
    "deletable": true,
    "editable": true
   },
   "outputs": [
    {
     "data": {
      "text/plain": [
       "0.009731650352478027"
      ]
     },
     "execution_count": 104,
     "metadata": {},
     "output_type": "execute_result"
    }
   ],
   "source": [
    "struct.unpack('!i','\\x00\\x02\\x7d\\xc6')[0]/2**24"
   ]
  },
  {
   "cell_type": "code",
   "execution_count": 96,
   "metadata": {
    "collapsed": false,
    "deletable": true,
    "editable": true
   },
   "outputs": [
    {
     "name": "stdout",
     "output_type": "stream",
     "text": [
      "0.00973148148148\n",
      "cb\n",
      "70\n",
      "1f\n",
      "3c\n",
      "\n"
     ]
    }
   ],
   "source": [
    "print((3+30/60+12/3600)/360)\n",
    "for c in struct.pack('f',(3+30/60+12/3600)/360):\n",
    "    print('%02x' % ord(c))\n",
    "print()"
   ]
  },
  {
   "cell_type": "code",
   "execution_count": 87,
   "metadata": {
    "collapsed": false,
    "deletable": true,
    "editable": true
   },
   "outputs": [
    {
     "data": {
      "text/plain": [
       "[]"
      ]
     },
     "execution_count": 87,
     "metadata": {},
     "output_type": "execute_result"
    }
   ],
   "source": [
    "''.split()"
   ]
  },
  {
   "cell_type": "code",
   "execution_count": 103,
   "metadata": {
    "collapsed": false,
    "deletable": true,
    "editable": true
   },
   "outputs": [
    {
     "name": "stdout",
     "output_type": "stream",
     "text": [
      "\n"
     ]
    }
   ],
   "source": [
    "a='\\x3b1aaaa\\x3b2bbbbb\\x3b3ccccc'"
   ]
  },
  {
   "cell_type": "code",
   "execution_count": 105,
   "metadata": {
    "collapsed": false,
    "deletable": true,
    "editable": true
   },
   "outputs": [
    {
     "data": {
      "text/plain": [
       "['1aaaa', '2bbbbb', '3ccccc']"
      ]
     },
     "execution_count": 105,
     "metadata": {},
     "output_type": "execute_result"
    }
   ],
   "source": [
    "a.split('\\x3b')[1:]"
   ]
  },
  {
   "cell_type": "code",
   "execution_count": null,
   "metadata": {
    "collapsed": true,
    "deletable": true,
    "editable": true
   },
   "outputs": [],
   "source": [
    "a.rfind()"
   ]
  },
  {
   "cell_type": "code",
   "execution_count": 143,
   "metadata": {
    "collapsed": false,
    "deletable": true,
    "editable": true
   },
   "outputs": [
    {
     "data": {
      "text/plain": [
       "['1aaaa', '2bbbbb', '3cccc']"
      ]
     },
     "execution_count": 143,
     "metadata": {},
     "output_type": "execute_result"
    }
   ],
   "source": [
    "split_msgs(a)"
   ]
  },
  {
   "cell_type": "code",
   "execution_count": 142,
   "metadata": {
    "collapsed": false,
    "deletable": true,
    "editable": true
   },
   "outputs": [
    {
     "data": {
      "text/plain": [
       "';1aaaa;2bbbbb;3ccccc'"
      ]
     },
     "execution_count": 142,
     "metadata": {},
     "output_type": "execute_result"
    }
   ],
   "source": [
    "a"
   ]
  },
  {
   "cell_type": "code",
   "execution_count": 126,
   "metadata": {
    "collapsed": false,
    "deletable": true,
    "editable": true
   },
   "outputs": [
    {
     "name": "stdout",
     "output_type": "stream",
     "text": [
      "3b 31 61 61 61 61 3b 32 62 62 62 62 62 3b 33 63 63 63 63 63\n"
     ]
    }
   ],
   "source": [
    "for c in a:\n",
    "    print '%02x' % ord(c) ,"
   ]
  },
  {
   "cell_type": "code",
   "execution_count": null,
   "metadata": {
    "collapsed": true,
    "deletable": true,
    "editable": true
   },
   "outputs": [],
   "source": []
  }
 ],
 "metadata": {
  "hide_input": false,
  "kernelspec": {
   "display_name": "Python 2",
   "language": "python",
   "name": "python2"
  },
  "language_info": {
   "codemirror_mode": {
    "name": "ipython",
    "version": 2
   },
   "file_extension": ".py",
   "mimetype": "text/x-python",
   "name": "python",
   "nbconvert_exporter": "python",
   "pygments_lexer": "ipython2",
   "version": "2.7.13"
  },
  "latex_envs": {
   "bibliofile": "biblio.bib",
   "cite_by": "apalike",
   "current_citInitial": 1,
   "eqLabelWithNumbers": true,
   "eqNumInitial": 0
  }
 },
 "nbformat": 4,
 "nbformat_minor": 0
}
